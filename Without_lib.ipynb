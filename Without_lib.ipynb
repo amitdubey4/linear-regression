{
 "cells": [
  {
   "cell_type": "code",
   "execution_count": 1,
   "id": "48116611-4d7f-42b3-90f4-03612d2f0c8a",
   "metadata": {},
   "outputs": [],
   "source": [
    "import pandas as pd             #it is used to read data from excel, csv etc\n",
    "import matplotlib.pyplot as plt  #for visualization eg- graphs\n",
    "import numpy as np\n",
    "%matplotlib inline         \n"
   ]
  },
  {
   "cell_type": "code",
   "execution_count": 2,
   "id": "46276dca-3b6c-40c4-830b-9ccdb1f13e05",
   "metadata": {},
   "outputs": [],
   "source": [
    "df = pd.read_csv('Height_weight.csv')"
   ]
  },
  {
   "cell_type": "code",
   "execution_count": 3,
   "id": "90486d54-dd99-436b-9da7-a33a199c9f32",
   "metadata": {},
   "outputs": [],
   "source": [
    "X = df[['Weight']]   #your indenpendt feature should be in dataframe or 2 dimension array\n",
    "y = df['Height']  "
   ]
  },
  {
   "cell_type": "code",
   "execution_count": 4,
   "id": "dcf028c9-1f66-4334-8b02-6bb3d48b8748",
   "metadata": {},
   "outputs": [],
   "source": [
    "#train test split\n",
    "from sklearn.model_selection import train_test_split\n",
    "X_train, X_test, y_train, y_test = train_test_split(X, y, test_size = 0.25, random_state = 40)"
   ]
  },
  {
   "cell_type": "code",
   "execution_count": 5,
   "id": "5ed3b61a-4eef-4df4-b3cc-eddfa2953e78",
   "metadata": {},
   "outputs": [
    {
     "data": {
      "text/plain": [
       "<matplotlib.collections.PathCollection at 0x7f51bce832b0>"
      ]
     },
     "execution_count": 5,
     "metadata": {},
     "output_type": "execute_result"
    },
    {
     "data": {
      "image/png": "[encoded data removed]",
      "text/plain": [
       "<Figure size 800x600 with 1 Axes>"
      ]
     },
     "metadata": {},
     "output_type": "display_data"
    }
   ],
   "source": [
    "fig = plt.figure(figsize = (8,6))\n",
    "plt.scatter(X_train, y_train, color = 'b', marker = 'o', s = 30)"
   ]
  },
  {
   "cell_type": "code",
   "execution_count": 19,
   "id": "cefe2341-8c7d-4dbc-841f-78587106e68c",
   "metadata": {},
   "outputs": [],
   "source": [
    "from sklearn.preprocessing import StandardScaler\n",
    "scaler = StandardScaler()\n",
    "X_train = scaler.fit_transform(X_train)\n",
    "X_test = scaler.transform(X_test)"
   ]
  },
  {
   "cell_type": "code",
   "execution_count": 20,
   "id": "40953517-7d59-44e7-944c-b4163c11dcb5",
   "metadata": {},
   "outputs": [],
   "source": [
    "reg = LinearRegression()\n",
    "reg.fit(X_train, y_train)\n",
    "prediction = reg.predict(X_test)"
   ]
  },
  {
   "cell_type": "code",
   "execution_count": 21,
   "id": "4de5cbd3-bbbc-4938-8639-d573c413a802",
   "metadata": {},
   "outputs": [
    {
     "data": {
      "text/plain": [
       "array([26.0070981 , 24.48669479, 28.17910285, 27.09310048, 26.44149905,\n",
       "       27.52750142, 25.35549668, 25.35549668, 23.83509336, 23.61789289,\n",
       "       27.31030095, 26.22429858])"
      ]
     },
     "execution_count": 21,
     "metadata": {},
     "output_type": "execute_result"
    }
   ],
   "source": [
    "prediction"
   ]
  },
  {
   "cell_type": "code",
   "execution_count": 22,
   "id": "ab862e88-c07a-4eb1-8b81-6396909d21ff",
   "metadata": {},
   "outputs": [],
   "source": [
    "def mse(y_test, prediction):\n",
    "    return np.mean((y_test - prediction)**2)"
   ]
  },
  {
   "cell_type": "code",
   "execution_count": 23,
   "id": "3522d652-6752-4360-85d1-cd0c17520415",
   "metadata": {},
   "outputs": [],
   "source": [
    "mse = mse(y_test, prediction)"
   ]
  },
  {
   "cell_type": "code",
   "execution_count": 24,
   "id": "1f36f2d7-abdd-46a1-a093-c5a6cebf216b",
   "metadata": {},
   "outputs": [
    {
     "data": {
      "text/plain": [
       "1643.0201000601667"
      ]
     },
     "execution_count": 24,
     "metadata": {},
     "output_type": "execute_result"
    }
   ],
   "source": [
    "mse"
   ]
  },
  {
   "cell_type": "code",
   "execution_count": null,
   "id": "7decf97d-13c7-4a71-9ef8-4ee2068ac867",
   "metadata": {},
   "outputs": [],
   "source": []
  },
  {
   "cell_type": "code",
   "execution_count": 25,
   "id": "43b02aff-9ec7-4a2c-8563-889bce4c08c5",
   "metadata": {},
   "outputs": [
    {
     "data": {
      "text/plain": [
       "[<matplotlib.lines.Line2D at 0x7f51b4587670>]"
      ]
     },
     "execution_count": 25,
     "metadata": {},
     "output_type": "execute_result"
    },
    {
     "data": {
      "image/png": "[encoded data removed]",
      "text/plain": [
       "<Figure size 640x480 with 1 Axes>"
      ]
     },
     "metadata": {},
     "output_type": "display_data"
    }
   ],
   "source": [
    "#y_pred_line = reg.predict(X_test)\n",
    "\n",
    "plt.scatter(X_train, y_train, color='g', s=10)\n",
    "plt.scatter(X_test, y_test, color= 'r', s=10)\n",
    "plt.plot(X_test, prediction, color='black', linewidth=2, label='Prediction')\n"
   ]
  },
  {
   "cell_type": "code",
   "execution_count": null,
   "id": "77e9f6b3-6f4d-4514-95ee-5ef89e474188",
   "metadata": {},
   "outputs": [],
   "source": []
  },
  {
   "cell_type": "markdown",
   "id": "a06c583e-82d7-4ca5-9f2f-811b3971659c",
   "metadata": {},
   "source": [
    "Implimenting linear regression from scratch"
   ]
  },
  {
   "cell_type": "code",
   "execution_count": 90,
   "id": "4bd17f1b-5af3-4497-b8c7-12196710408f",
   "metadata": {},
   "outputs": [],
   "source": []
  },
  {
   "cell_type": "code",
   "execution_count": 10,
   "id": "746a3aa6-694a-444f-9533-b36d209dc5e6",
   "metadata": {},
   "outputs": [],
   "source": [
    "import numpy as np\n",
    "\n",
    "class LinearRegression:\n",
    "    \n",
    "    def __init__(self, lr = 0.01, n_iters = 50):\n",
    "        self.lr = lr\n",
    "        self.n_iters = n_iters\n",
    "        self.weight = None   #coeffiectn\n",
    "        self.bias = None    #intercept\n",
    "        \n",
    "    def fit(self, X, y): #trainng the model\n",
    "        n_sample, n_features = X.shape\n",
    "        self.weight = np.zeros(n_features)\n",
    "        self.bias = 0\n",
    "        \n",
    "        for _ in range(self.n_iters):\n",
    "            y_pred = np.dot(X, self.weight) + self.bias\n",
    "\n",
    "            dw = (1/n_sample) * np.dot(X.T, (y_pred-y))\n",
    "            db = (1/n_sample) * np.sum(y_pred - y)\n",
    "\n",
    "            self.weight = self.weight - (self.lr * dw)\n",
    "            self.bias = self.bias - self.lr * db\n",
    "            \n",
    "            #print(self.weight,\" \", self.bias)\n",
    "        \n",
    "    def predict(self, X):\n",
    "        y_pred = np.dot(X, self.weight) + self.bias\n",
    "        return y_pred\n",
    "        "
   ]
  },
  {
   "cell_type": "code",
   "execution_count": null,
   "id": "34466dc8-f326-4ea3-b515-020f73719e49",
   "metadata": {},
   "outputs": [],
   "source": []
  },
  {
   "cell_type": "code",
   "execution_count": null,
   "id": "1898aa2d-36e6-4164-bf10-fc33b9f09984",
   "metadata": {},
   "outputs": [],
   "source": []
  }
 ],
 "metadata": {
  "kernelspec": {
   "display_name": "Python 3 (ipykernel)",
   "language": "python",
   "name": "python3"
  },
  "language_info": {
   "codemirror_mode": {
    "name": "ipython",
    "version": 3
   },
   "file_extension": ".py",
   "mimetype": "text/x-python",
   "name": "python",
   "nbconvert_exporter": "python",
   "pygments_lexer": "ipython3",
   "version": "3.10.8"
  }
 },
 "nbformat": 4,
 "nbformat_minor": 5
}
